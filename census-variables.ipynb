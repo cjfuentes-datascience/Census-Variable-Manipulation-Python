{
 "cells": [
  {
   "cell_type": "code",
   "execution_count": 29,
   "metadata": {},
   "outputs": [],
   "source": [
    "import pandas as pd"
   ]
  },
  {
   "cell_type": "markdown",
   "metadata": {},
   "source": [
    "Read and call the .head() method on the census dataframe and print the output to view the first five rows."
   ]
  },
  {
   "cell_type": "code",
   "execution_count": 30,
   "metadata": {},
   "outputs": [
    {
     "name": "stdout",
     "output_type": "stream",
     "text": [
      "   Unnamed: 0 first_name  last_name birth_year  voted  num_children  \\\n",
      "0           0     Denise      Ratke       2005  False             0   \n",
      "1           1       Hali  Cummerata       1987  False             0   \n",
      "2           2    Salomon        Orn       1992   True             2   \n",
      "3           3     Sarina   Schiller       1965  False             2   \n",
      "4           4       Gust  Abernathy       1945  False             2   \n",
      "\n",
      "   income_year      higher_tax marital_status  \n",
      "0     92129.41        disagree         single  \n",
      "1     75649.17         neutral       divorced  \n",
      "2    166313.45           agree         single  \n",
      "3     71704.81  strongly agree        married  \n",
      "4    143316.08           agree        married  \n"
     ]
    }
   ],
   "source": [
    "census = pd.read_csv(r'C:\\Users\\Carlos\\Downloads\\census_data.csv')\n",
    "print(census.head())"
   ]
  },
  {
   "cell_type": "markdown",
   "metadata": {},
   "source": [
    "Compare the values returned from the .head() method with the data types of each variable by calling .dtypes on the census dataframe and print the result."
   ]
  },
  {
   "cell_type": "code",
   "execution_count": 31,
   "metadata": {},
   "outputs": [
    {
     "name": "stdout",
     "output_type": "stream",
     "text": [
      "Unnamed: 0          int64\n",
      "first_name         object\n",
      "last_name          object\n",
      "birth_year         object\n",
      "voted                bool\n",
      "num_children        int64\n",
      "income_year       float64\n",
      "higher_tax         object\n",
      "marital_status     object\n",
      "dtype: object\n"
     ]
    }
   ],
   "source": [
    "print(census.dtypes)"
   ]
  },
  {
   "cell_type": "markdown",
   "metadata": {},
   "source": [
    "We were able to see from .dtypes that birth_year has been assigned the str datatype whereas it should be expressed in int.\n",
    "Print the unique values of the variable using the .unique() method."
   ]
  },
  {
   "cell_type": "code",
   "execution_count": 32,
   "metadata": {},
   "outputs": [
    {
     "name": "stdout",
     "output_type": "stream",
     "text": [
      "['2005' '1987' '1992' '1965' '1945' '1951' '1963' '1949' '1950' '1971'\n",
      " '2007' '1944' '1995' '1973' '1946' '1954' '1994' '1989' '1947' '1993'\n",
      " '1976' '1984' 'missing' '1966' '1941' '2000' '1953' '1956' '1960' '2001'\n",
      " '1980' '1955' '1985' '1996' '1968' '1979' '2006' '1962' '1981' '1959'\n",
      " '1977' '1978' '1983' '1957' '1961' '1982' '2002' '1998' '1999' '1952'\n",
      " '1940' '1986' '1958']\n"
     ]
    }
   ],
   "source": [
    "print(census.birth_year.unique())"
   ]
  },
  {
   "cell_type": "markdown",
   "metadata": {},
   "source": [
    "Use the .replace() method to replace the missing value with 1967, so that the data type can be changed to int. Then recheck the values in birth_year by calling the .unique() method and printing the results."
   ]
  },
  {
   "cell_type": "code",
   "execution_count": 33,
   "metadata": {},
   "outputs": [
    {
     "name": "stdout",
     "output_type": "stream",
     "text": [
      "['2005' '1987' '1992' '1965' '1945' '1951' '1963' '1949' '1950' '1971'\n",
      " '2007' '1944' '1995' '1973' '1946' '1954' '1994' '1989' '1947' '1993'\n",
      " '1976' '1984' '1967' '1966' '1941' '2000' '1953' '1956' '1960' '2001'\n",
      " '1980' '1955' '1985' '1996' '1968' '1979' '2006' '1962' '1981' '1959'\n",
      " '1977' '1978' '1983' '1957' '1961' '1982' '2002' '1998' '1999' '1952'\n",
      " '1940' '1986' '1958']\n"
     ]
    }
   ],
   "source": [
    "census['birth_year'] = census.birth_year.replace('missing','1967')\n",
    "print(census.birth_year.unique())"
   ]
  },
  {
   "cell_type": "markdown",
   "metadata": {},
   "source": [
    "Now that we have adjusted the values in the birth_year variable, change the datatype from str to int and print the datatypes of the census dataframe with .dtypes."
   ]
  },
  {
   "cell_type": "code",
   "execution_count": 34,
   "metadata": {},
   "outputs": [
    {
     "name": "stdout",
     "output_type": "stream",
     "text": [
      "Unnamed: 0          int64\n",
      "first_name         object\n",
      "last_name          object\n",
      "birth_year          int32\n",
      "voted                bool\n",
      "num_children        int64\n",
      "income_year       float64\n",
      "higher_tax         object\n",
      "marital_status     object\n",
      "dtype: object\n"
     ]
    }
   ],
   "source": [
    "census['birth_year'] = census.birth_year.astype('int')\n",
    "print(census.dtypes)"
   ]
  },
  {
   "cell_type": "markdown",
   "metadata": {},
   "source": [
    "Having assigned birth_year to the appropriate data type, print the average birth year of the respondents to the census using the pandas .mean() method."
   ]
  },
  {
   "cell_type": "code",
   "execution_count": 35,
   "metadata": {},
   "outputs": [
    {
     "name": "stdout",
     "output_type": "stream",
     "text": [
      "1973.4\n"
     ]
    }
   ],
   "source": [
    "print(census.birth_year.mean())"
   ]
  },
  {
   "cell_type": "markdown",
   "metadata": {},
   "source": [
    "Your manager would like to set an order to the higher_tax variable so that: strongly disagree < disagree < neutral < agree < strongly agree.\n",
    "\n",
    "Convert the higher_tax variable to the category data type with the appropriate order, then print the new order using the .unique() method."
   ]
  },
  {
   "cell_type": "code",
   "execution_count": 36,
   "metadata": {},
   "outputs": [
    {
     "name": "stdout",
     "output_type": "stream",
     "text": [
      "['disagree', 'neutral', 'agree', 'strongly agree', 'strongly disagree']\n",
      "Categories (5, object): ['strongly disagree', 'disagree', 'neutral', 'agree', 'strongly agree']\n"
     ]
    }
   ],
   "source": [
    "census['higher_tax'] = pd.Categorical(census.higher_tax,['strongly disagree', 'disagree', 'neutral', 'agree', 'strongly agree'])\n",
    "print(census.higher_tax.unique())"
   ]
  },
  {
   "cell_type": "markdown",
   "metadata": {},
   "source": [
    "Your manager would also like to know the median sentiment of the respondents on the issue of higher taxes for the wealthy. Label encode the higher_tax variable and print the median using the pandas .median() method. "
   ]
  },
  {
   "cell_type": "code",
   "execution_count": 37,
   "metadata": {},
   "outputs": [
    {
     "name": "stdout",
     "output_type": "stream",
     "text": [
      "   Unnamed: 0 first_name  last_name  birth_year  voted  num_children  \\\n",
      "0           0     Denise      Ratke        2005  False             0   \n",
      "1           1       Hali  Cummerata        1987  False             0   \n",
      "2           2    Salomon        Orn        1992   True             2   \n",
      "3           3     Sarina   Schiller        1965  False             2   \n",
      "4           4       Gust  Abernathy        1945  False             2   \n",
      "\n",
      "   income_year marital_status  higher_tax_strongly disagree  \\\n",
      "0     92129.41         single                             0   \n",
      "1     75649.17       divorced                             0   \n",
      "2    166313.45         single                             0   \n",
      "3     71704.81        married                             0   \n",
      "4    143316.08        married                             0   \n",
      "\n",
      "   higher_tax_disagree  higher_tax_neutral  higher_tax_agree  \\\n",
      "0                    1                   0                 0   \n",
      "1                    0                   1                 0   \n",
      "2                    0                   0                 1   \n",
      "3                    0                   0                 0   \n",
      "4                    0                   0                 1   \n",
      "\n",
      "   higher_tax_strongly agree  \n",
      "0                          0  \n",
      "1                          0  \n",
      "2                          0  \n",
      "3                          1  \n",
      "4                          0  \n"
     ]
    }
   ],
   "source": [
    "census= pd.get_dummies(census, columns = ['higher_tax'])\n",
    "print(census.head())\n"
   ]
  }
 ],
 "metadata": {
  "kernelspec": {
   "display_name": "Python 3.9.7 ('base')",
   "language": "python",
   "name": "python3"
  },
  "language_info": {
   "codemirror_mode": {
    "name": "ipython",
    "version": 3
   },
   "file_extension": ".py",
   "mimetype": "text/x-python",
   "name": "python",
   "nbconvert_exporter": "python",
   "pygments_lexer": "ipython3",
   "version": "3.9.7"
  },
  "orig_nbformat": 4,
  "vscode": {
   "interpreter": {
    "hash": "1d3566b98539942dfe42f243b655841af5c597145eebc5638a47e844e4435e63"
   }
  }
 },
 "nbformat": 4,
 "nbformat_minor": 2
}
